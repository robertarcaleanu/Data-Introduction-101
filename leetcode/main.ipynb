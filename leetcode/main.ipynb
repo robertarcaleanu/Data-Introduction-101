{
 "cells": [
  {
   "cell_type": "code",
   "execution_count": 7,
   "metadata": {},
   "outputs": [],
   "source": [
    "import pandas as pd\n",
    "\n",
    "from datasets_leetcode import DatasetLeetcode\n",
    "from solutions_leetcode import SolutionsLeetcode"
   ]
  },
  {
   "cell_type": "code",
   "execution_count": 8,
   "metadata": {},
   "outputs": [],
   "source": [
    "leetcode = DatasetLeetcode()\n",
    "solutions = SolutionsLeetcode(leetcode)"
   ]
  },
  {
   "cell_type": "code",
   "execution_count": null,
   "metadata": {},
   "outputs": [],
   "source": [
    "# Example: Write a solution to find the dummy data. This shows how to verify the solution\n",
    "dummy = leetcode.dummy_data()\n",
    "result = dummy[dummy[\"a\"] == 1]\n",
    "\n",
    "print(\"Result:\")\n",
    "print(result)\n",
    "print(\"Solution:\")\n",
    "print(solutions.dummy_data())"
   ]
  },
  {
   "cell_type": "code",
   "execution_count": null,
   "metadata": {},
   "outputs": [],
   "source": [
    "# Exercise 1: Write a solution to find the name, population, and area of the big countries\n",
    "world = leetcode.big_countries()"
   ]
  },
  {
   "cell_type": "code",
   "execution_count": null,
   "metadata": {},
   "outputs": [],
   "source": [
    "# Exercise 2: Write a solution to find the ids of products that are both low fat and recyclable.\n",
    "products = leetcode.recyclable_and_low_fat_products()"
   ]
  },
  {
   "cell_type": "code",
   "execution_count": null,
   "metadata": {},
   "outputs": [],
   "source": [
    "# Exercise 3: Write a solution to find all customers who never order anything.\n",
    "customers, orders = leetcode.customers_who_never_order()"
   ]
  }
 ],
 "metadata": {
  "kernelspec": {
   "display_name": "personal_projects",
   "language": "python",
   "name": "python3"
  },
  "language_info": {
   "codemirror_mode": {
    "name": "ipython",
    "version": 3
   },
   "file_extension": ".py",
   "mimetype": "text/x-python",
   "name": "python",
   "nbconvert_exporter": "python",
   "pygments_lexer": "ipython3",
   "version": "3.10.12"
  }
 },
 "nbformat": 4,
 "nbformat_minor": 2
}
