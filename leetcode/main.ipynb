{
 "cells": [
  {
   "cell_type": "code",
   "execution_count": 1,
   "metadata": {},
   "outputs": [],
   "source": [
    "import pandas as pd\n",
    "\n",
    "from datasets_leetcode import DatasetLeetcode\n",
    "from solutions_leetcode import SolutionsLeetcode"
   ]
  },
  {
   "cell_type": "code",
   "execution_count": 8,
   "metadata": {},
   "outputs": [],
   "source": [
    "leetcode = DatasetLeetcode()\n",
    "solutions = SolutionsLeetcode(leetcode)"
   ]
  },
  {
   "cell_type": "code",
   "execution_count": null,
   "metadata": {},
   "outputs": [],
   "source": [
    "# Example: Write a solution to find the dummy data. This shows how to verify the solution\n",
    "dummy = leetcode.dummy_data()"
   ]
  },
  {
   "cell_type": "code",
   "execution_count": null,
   "metadata": {},
   "outputs": [],
   "source": [
    "# Write your solution here.\n",
    "result = dummy[dummy[\"a\"] == 1]\n",
    "\n",
    "print(\"Result:\")\n",
    "print(result)\n",
    "print(\"Solution:\")\n",
    "print(solutions.dummy_data())"
   ]
  },
  {
   "cell_type": "code",
   "execution_count": null,
   "metadata": {},
   "outputs": [],
   "source": [
    "# Exercise 1: Write a solution to find the name, population, and area of the big countries\n",
    "world = leetcode.big_countries()"
   ]
  },
  {
   "cell_type": "code",
   "execution_count": null,
   "metadata": {},
   "outputs": [],
   "source": [
    "# Write your solution here.\n"
   ]
  },
  {
   "cell_type": "code",
   "execution_count": null,
   "metadata": {},
   "outputs": [],
   "source": [
    "# Exercise 2: Write a solution to find the ids of products that are both low fat and recyclable.\n",
    "products = leetcode.recyclable_and_low_fat_products()"
   ]
  },
  {
   "cell_type": "code",
   "execution_count": null,
   "metadata": {},
   "outputs": [],
   "source": [
    "# Write your solution here.\n"
   ]
  },
  {
   "cell_type": "code",
   "execution_count": null,
   "metadata": {},
   "outputs": [],
   "source": [
    "# Exercise 3: Write a solution to find all customers who never order anything.\n",
    "customers, orders = leetcode.customers_who_never_order()"
   ]
  },
  {
   "cell_type": "code",
   "execution_count": null,
   "metadata": {},
   "outputs": [],
   "source": [
    "# Write your solution here."
   ]
  },
  {
   "cell_type": "code",
   "execution_count": null,
   "metadata": {},
   "outputs": [],
   "source": [
    "# Exercice 4: Write a solution to find all the authors that viewed at least one of their own articles.\n",
    "views = leetcode.article_views_1()"
   ]
  },
  {
   "cell_type": "code",
   "execution_count": null,
   "metadata": {},
   "outputs": [],
   "source": [
    "# Write your solution here.\n"
   ]
  },
  {
   "cell_type": "code",
   "execution_count": null,
   "metadata": {},
   "outputs": [],
   "source": [
    "# Exercice 5: Write a solution to find the IDs of the invalid tweets. \n",
    "# The tweet is invalid if the number of characters used in the content of the tweet is strictly greater than 15\n",
    "tweets = leetcode.invalid_tweets()"
   ]
  },
  {
   "cell_type": "code",
   "execution_count": null,
   "metadata": {},
   "outputs": [],
   "source": [
    "# Write your solution here.\n"
   ]
  },
  {
   "cell_type": "code",
   "execution_count": null,
   "metadata": {},
   "outputs": [],
   "source": [
    "# Exercice 6: Write a solution to calculate the bonus of each employee. \n",
    "# The bonus of an employee is 100% of their salary if the ID of the employee is an odd number and the employee's name does not start with the character 'M'. \n",
    "# The bonus of an employee is 0 otherwise\n",
    "employees = leetcode.calculate_special_bonus()"
   ]
  },
  {
   "cell_type": "code",
   "execution_count": null,
   "metadata": {},
   "outputs": [],
   "source": [
    "# Write your solution here.\n"
   ]
  },
  {
   "cell_type": "code",
   "execution_count": null,
   "metadata": {},
   "outputs": [],
   "source": [
    "# Exercice 7: Write a solution to fix the names so that only the first character is uppercase and the rest are lowercase.\n",
    "users = leetcode.fix_names_in_table()"
   ]
  },
  {
   "cell_type": "code",
   "execution_count": null,
   "metadata": {},
   "outputs": [],
   "source": [
    "# Write your solution here.\n"
   ]
  },
  {
   "cell_type": "code",
   "execution_count": null,
   "metadata": {},
   "outputs": [],
   "source": [
    "# Exercice 8:Write a solution to find the users who have valid emails.\n",
    "# A valid e-mail has a prefix name and a domain where:\n",
    "# The prefix name is a string that may contain letters (upper or lower case), digits, underscore '_', period '.', and/or dash '-'. The prefix name must start with a letter.\n",
    "# The domain is '@leetcode.com'.\n",
    "users = leetcode.find_users_with_valid_emails()"
   ]
  },
  {
   "cell_type": "code",
   "execution_count": null,
   "metadata": {},
   "outputs": [],
   "source": [
    "# Write your solution here.\n"
   ]
  },
  {
   "cell_type": "code",
   "execution_count": null,
   "metadata": {},
   "outputs": [],
   "source": [
    "# Exercice 9: Write a solution to find the patient_id, patient_name, and conditions of the patients who have Type I Diabetes. \n",
    "# Type I Diabetes always starts with DIAB1 prefix\n",
    "patients = leetcode.patients_with_a_condition()"
   ]
  },
  {
   "cell_type": "code",
   "execution_count": null,
   "metadata": {},
   "outputs": [],
   "source": [
    "# Write your solution here.\n"
   ]
  },
  {
   "cell_type": "code",
   "execution_count": null,
   "metadata": {},
   "outputs": [],
   "source": [
    "# Exercice 10: Write a solution to find the nth highest salary from the Employee table. If there is no nth highest salary, return null\n",
    "employee = leetcode.nth_highest_salary()"
   ]
  },
  {
   "cell_type": "code",
   "execution_count": null,
   "metadata": {},
   "outputs": [],
   "source": [
    "# Write your solution here.\n"
   ]
  },
  {
   "cell_type": "code",
   "execution_count": null,
   "metadata": {},
   "outputs": [],
   "source": [
    "# Exercice 11: Write a solution to find the second highest distinct salary from the Employee table.\n",
    "# If there is no second highest salary, return null (return None in Pandas).\n",
    "employee = leetcode.second_highest_salary()"
   ]
  },
  {
   "cell_type": "code",
   "execution_count": null,
   "metadata": {},
   "outputs": [],
   "source": [
    "# Write your solution here.\n"
   ]
  },
  {
   "cell_type": "code",
   "execution_count": null,
   "metadata": {},
   "outputs": [],
   "source": [
    "# Exercice 12: Write a solution to find employees who have the highest salary in each of the departments\n",
    "employee, department = leetcode.department_highest_salary()"
   ]
  },
  {
   "cell_type": "code",
   "execution_count": null,
   "metadata": {},
   "outputs": [],
   "source": [
    "# Write your solution here.\n"
   ]
  },
  {
   "cell_type": "code",
   "execution_count": null,
   "metadata": {},
   "outputs": [],
   "source": [
    "# Exercice 13:Write a solution to find the rank of the scores. The ranking should be calculated according to the following rules:\n",
    "# The scores should be ranked from the highest to the lowest.\n",
    "# If there is a tie between two scores, both should have the same ranking.\n",
    "# After a tie, the next ranking number should be the next consecutive integer value. In other words, there should be no holes between ranks.\n",
    "# return the result table ordered by score in descending order.\n",
    "scoress = leetcode.rank_scores()"
   ]
  },
  {
   "cell_type": "code",
   "execution_count": null,
   "metadata": {},
   "outputs": [],
   "source": [
    "# Write your solution here.\n"
   ]
  },
  {
   "cell_type": "code",
   "execution_count": null,
   "metadata": {},
   "outputs": [],
   "source": [
    "# Exercice 14: Write a solution to delete all duplicate emails, keeping only one unique email with the smallest id\n",
    "person = leetcode.delete_duplicate_emails()"
   ]
  },
  {
   "cell_type": "code",
   "execution_count": null,
   "metadata": {},
   "outputs": [],
   "source": [
    "# Write your solution here.\n"
   ]
  },
  {
   "cell_type": "code",
   "execution_count": null,
   "metadata": {},
   "outputs": [],
   "source": [
    "# Exercice 15: Write a solution to rearrange the Products table so that each row has (product_id, store, price).\n",
    "# If a product is not available in a store, do not include a row with that product_id and store combination in the result table.\n",
    "products = leetcode.rearrange_products_table()"
   ]
  },
  {
   "cell_type": "code",
   "execution_count": null,
   "metadata": {},
   "outputs": [],
   "source": [
    "# Write your solution here.\n"
   ]
  },
  {
   "cell_type": "code",
   "execution_count": null,
   "metadata": {},
   "outputs": [],
   "source": [
    "# Exercice 16: Write a solution to calculate the number of bank accounts for each salary category. The salary categories are:\n",
    "# \"Low Salary\": All the salaries strictly less than $20000.\n",
    "# \"Average Salary\": All the salaries in the inclusive range [$20000, $50000].\n",
    "# \"High Salary\": All the salaries strictly greater than $50000.\n",
    "# The result table must contain all three categories. If there are no accounts in a category, return 0.\n",
    "accounts = leetcode.count_salary_categories()"
   ]
  },
  {
   "cell_type": "code",
   "execution_count": null,
   "metadata": {},
   "outputs": [],
   "source": [
    "# Write your solution here.\n"
   ]
  },
  {
   "cell_type": "code",
   "execution_count": null,
   "metadata": {},
   "outputs": [],
   "source": [
    "# Exercice 17: Write a solution to calculate the total time in minutes spent by each employee on each day at the office.\n",
    "# Note that within one day, an employee can enter and leave more than once.\n",
    "# The time spent in the office for a single entry is out_time - in_time.\n",
    "employees = leetcode.find_total_time_spent_by_each_employee()"
   ]
  },
  {
   "cell_type": "code",
   "execution_count": null,
   "metadata": {},
   "outputs": [],
   "source": [
    "# Write your solution here.\n"
   ]
  },
  {
   "cell_type": "code",
   "execution_count": null,
   "metadata": {},
   "outputs": [],
   "source": [
    "# Exercice 18: Write a solution to find the first login date for each player.\n",
    "activity = leetcode.game_play_analysis_1()"
   ]
  },
  {
   "cell_type": "code",
   "execution_count": null,
   "metadata": {},
   "outputs": [],
   "source": [
    "# Write your solution here.\n"
   ]
  },
  {
   "cell_type": "code",
   "execution_count": null,
   "metadata": {},
   "outputs": [],
   "source": [
    "# Exercice 19: Write a solution to calculate the number of unique subjects each teacher teaches in the university.\n",
    "teacher = leetcode.number_of_unique_subjects_taught_by_each_teacher()"
   ]
  },
  {
   "cell_type": "code",
   "execution_count": null,
   "metadata": {},
   "outputs": [],
   "source": [
    "# Write your solution here.\n"
   ]
  },
  {
   "cell_type": "code",
   "execution_count": null,
   "metadata": {},
   "outputs": [],
   "source": [
    "# Exercice 20: Write a solution to find all the classes that have at least five students.\n",
    "courses = leetcode.classes_more_than_5_students()"
   ]
  },
  {
   "cell_type": "code",
   "execution_count": null,
   "metadata": {},
   "outputs": [],
   "source": [
    "# Write your solution here.\n"
   ]
  },
  {
   "cell_type": "code",
   "execution_count": null,
   "metadata": {},
   "outputs": [],
   "source": [
    "# Exercice 21: Write a solution to find the customer_number for the customer who has placed the largest number of orders.\n",
    "orders = leetcode.customer_placing_the_largest_number_of_orders()"
   ]
  },
  {
   "cell_type": "code",
   "execution_count": null,
   "metadata": {},
   "outputs": [],
   "source": [
    "# Write your solution here.\n"
   ]
  },
  {
   "cell_type": "code",
   "execution_count": null,
   "metadata": {},
   "outputs": [],
   "source": [
    "# Exercice 22: Write a solution to find for each date the number of different products sold and their names.\n",
    "# The sold products names for each date should be sorted lexicographically.\n",
    "activities = leetcode.group_sold_prodcts_by_the_date()\n"
   ]
  },
  {
   "cell_type": "code",
   "execution_count": null,
   "metadata": {},
   "outputs": [],
   "source": [
    "# Write your solution here.\n"
   ]
  },
  {
   "cell_type": "code",
   "execution_count": null,
   "metadata": {},
   "outputs": [],
   "source": [
    "# Exercice 23: For each date_id and make_name, find the number of distinct lead_id's and distinct partner_id's.\n",
    "daily_sales = leetcode.daily_leads_and_partners()"
   ]
  },
  {
   "cell_type": "code",
   "execution_count": null,
   "metadata": {},
   "outputs": [],
   "source": [
    "# Write your solution here.\n"
   ]
  },
  {
   "cell_type": "code",
   "execution_count": null,
   "metadata": {},
   "outputs": [],
   "source": [
    "# Exercice 24: Write a solution to find all the pairs (actor_id, director_id) where the actor has cooperated with the director at least three times.\n",
    "actor_director = leetcode.actors_and_directors_who_cooperated_at_least_three_times()"
   ]
  },
  {
   "cell_type": "code",
   "execution_count": null,
   "metadata": {},
   "outputs": [],
   "source": [
    "# Write your solution here.\n"
   ]
  },
  {
   "cell_type": "code",
   "execution_count": null,
   "metadata": {},
   "outputs": [],
   "source": [
    "# Exercice 25: Write a solution to show the unique ID of each user, If a user does not have a unique ID replace just show null\n",
    "employees, employee_uni = leetcode.replace_employee_id_with_the_unique_identifier()"
   ]
  },
  {
   "cell_type": "code",
   "execution_count": null,
   "metadata": {},
   "outputs": [],
   "source": [
    "# Write your solution here.\n"
   ]
  },
  {
   "cell_type": "code",
   "execution_count": null,
   "metadata": {},
   "outputs": [],
   "source": [
    "# Exercice 26: Write a solution to find the number of times each student attended each exam.\n",
    "# Return the result table ordered by student_id and subject_name\n",
    "students, subjects, examinations = leetcode.students_and_examinations()\n"
   ]
  },
  {
   "cell_type": "code",
   "execution_count": null,
   "metadata": {},
   "outputs": [],
   "source": [
    "# Write your solution here.\n"
   ]
  },
  {
   "cell_type": "code",
   "execution_count": null,
   "metadata": {},
   "outputs": [],
   "source": [
    "# Exercice 27: Write a solution to find managers with at least five direct reports\n",
    "employee = leetcode.managers_with_at_least_5_direct_reports()"
   ]
  },
  {
   "cell_type": "code",
   "execution_count": null,
   "metadata": {},
   "outputs": [],
   "source": [
    "# Write your solution here.\n"
   ]
  },
  {
   "cell_type": "code",
   "execution_count": null,
   "metadata": {},
   "outputs": [],
   "source": [
    "# Exercice 28: Write a solution to find the names of all the salespersons who did not have any orders related to the company with the name \"RED\".\n",
    "sales_person, company, orders = leetcode.sales_person()"
   ]
  },
  {
   "cell_type": "code",
   "execution_count": null,
   "metadata": {},
   "outputs": [],
   "source": [
    "# Write your solution here.\n"
   ]
  }
 ],
 "metadata": {
  "kernelspec": {
   "display_name": "personal_projects",
   "language": "python",
   "name": "python3"
  },
  "language_info": {
   "codemirror_mode": {
    "name": "ipython",
    "version": 3
   },
   "file_extension": ".py",
   "mimetype": "text/x-python",
   "name": "python",
   "nbconvert_exporter": "python",
   "pygments_lexer": "ipython3",
   "version": "3.10.12"
  }
 },
 "nbformat": 4,
 "nbformat_minor": 2
}
